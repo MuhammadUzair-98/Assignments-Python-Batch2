{
 "cells": [
  {
   "cell_type": "code",
   "execution_count": 1,
   "metadata": {},
   "outputs": [
    {
     "name": "stdout",
     "output_type": "stream",
     "text": [
      "Enter first number 5\n",
      "Enter the operator +\n",
      "Enter second number 6\n",
      "The addition is  11\n"
     ]
    }
   ],
   "source": [
    "firstval = int(input(\"Enter first number \"))\n",
    "operator = input(\"Enter the operator \")\n",
    "secondval = int(input(\"Enter second number \"))\n",
    "\n",
    "if operator == \"+\" :\n",
    "    print(\"The addition is \" , firstval + secondval)\n",
    "elif operator == \"-\" :\n",
    "    print(\"The subtraction is \" , firstval - secondval)\n",
    "elif operator == \"*\" :\n",
    "    print(\"The multiplication is \" , firstval * secondval)\n",
    "elif operator == \"/\" :\n",
    "    print(\"The division is \" , firstval // secondval)\n",
    "elif operator == \"**\" :\n",
    "    print(\"The power is \" , firstval ** secondval)\n",
    "else :\n",
    "    print(\"plz Enter correct operator\")\n"
   ]
  },
  {
   "cell_type": "code",
   "execution_count": 2,
   "metadata": {},
   "outputs": [
    {
     "name": "stdout",
     "output_type": "stream",
     "text": [
      "No numeric value\n",
      "[5, 45, 60]\n"
     ]
    }
   ],
   "source": [
    "arr = [\"String\" , 5 , \"python\" , 45 , 60 , \"Javascript\"]\n",
    "arrNum = []\n",
    "ans = \"\"\n",
    "for check in arr :\n",
    "    datatype = type(check)\n",
    "    if datatype == int or datatype == float :\n",
    "        arrNum.append(check)\n",
    "        ans = \"\"\n",
    "    else :\n",
    "        ans = \"No numeric value\"\n",
    "print(ans)\n",
    "print(arrNum)\n"
   ]
  },
  {
   "cell_type": "code",
   "execution_count": 3,
   "metadata": {},
   "outputs": [
    {
     "name": "stdout",
     "output_type": "stream",
     "text": [
      "[5, 45, 60]\n"
     ]
    }
   ],
   "source": [
    "arr = [\"String\" , 5 , \"python\" , 45 , 60 , \"Javascript\"]\n",
    "new_list = []\n",
    "for value in arr:\n",
    "    try:\n",
    "        new_list.append(int(value))\n",
    "    except ValueError:\n",
    "        continue\n",
    "print(new_list)\n"
   ]
  },
  {
   "cell_type": "code",
   "execution_count": 4,
   "metadata": {},
   "outputs": [
    {
     "name": "stdout",
     "output_type": "stream",
     "text": [
      "Name\tUzair\n",
      "Number\t123456\n",
      "Address\tKarachi\n",
      "new_key\tIt's the value of new key\n"
     ]
    }
   ],
   "source": [
    "dic = {\n",
    "    \"Name\" : \"Uzair\",\n",
    "    \"Number\" : \"123456\",\n",
    "    \"Address\" : \"Karachi\"\n",
    "}\n",
    "dic[\"new_key\"] = \"It's the value of new key\"\n",
    "for a_key, a_value in dic.items() :\n",
    "    print(a_key + \"\\t\" + a_value)\n"
   ]
  },
  {
   "cell_type": "code",
   "execution_count": 5,
   "metadata": {},
   "outputs": [
    {
     "name": "stdout",
     "output_type": "stream",
     "text": [
      "133\n"
     ]
    }
   ],
   "source": [
    "dic2 = {\n",
    "    \"name\" : \"Mohsin\",\n",
    "    \"Address\" : \"Malir\",\n",
    "    \"celNum\" : 111,\n",
    "    \"Block\" : 10,\n",
    "    \"busNum\": 12   \n",
    "}\n",
    "summ = 0\n",
    "for val in dic2.values() :\n",
    "    if type(val) == int or type(val) == float : \n",
    "        summ += val\n",
    "print(summ)"
   ]
  },
  {
   "cell_type": "code",
   "execution_count": null,
   "metadata": {},
   "outputs": [],
   "source": []
  },
  {
   "cell_type": "code",
   "execution_count": 9,
   "metadata": {},
   "outputs": [
    {
     "name": "stdout",
     "output_type": "stream",
     "text": [
      "Enter the keyaddress\n",
      "10\n",
      "True\n"
     ]
    }
   ],
   "source": [
    "dic3 = {\n",
    "    \"name\" : \"Mohsin\",\n",
    "    \"address\" : \"Malir\",\n",
    "    \"celnum\" : 111,\n",
    "    \"bLock\" : 10,\n",
    "    \"busnum\": 12   \n",
    "}\n",
    "res = dic3[\"bLock\"]\n",
    "user = input(\"Enter the key\")\n",
    "for key in dic3.keys() :\n",
    "    if key.lower() == user.lower() :\n",
    "        print(res)\n",
    "print(user in dic3)\n"
   ]
  },
  {
   "cell_type": "code",
   "execution_count": null,
   "metadata": {},
   "outputs": [],
   "source": []
  }
 ],
 "metadata": {
  "kernelspec": {
   "display_name": "Python 3",
   "language": "python",
   "name": "python3"
  },
  "language_info": {
   "codemirror_mode": {
    "name": "ipython",
    "version": 3
   },
   "file_extension": ".py",
   "mimetype": "text/x-python",
   "name": "python",
   "nbconvert_exporter": "python",
   "pygments_lexer": "ipython3",
   "version": "3.7.4"
  }
 },
 "nbformat": 4,
 "nbformat_minor": 2
}
