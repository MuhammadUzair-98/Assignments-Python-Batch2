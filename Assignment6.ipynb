{
 "cells": [
  {
   "cell_type": "code",
   "execution_count": 32,
   "metadata": {},
   "outputs": [
    {
     "name": "stdout",
     "output_type": "stream",
     "text": [
      "Car name is 'Land Cruiser' color is 'Black' model is '2018' gives avg is '50 kilometer per liter' registration number is '1236'\n",
      "The owner of Land Cruiser is Muhammad Uzair\n",
      "The new owner of a car is Saad\n"
     ]
    }
   ],
   "source": [
    "class Car() :\n",
    "    def __init__(self,name,color,model,avg,registration_num):\n",
    "        self.name = name\n",
    "        self.color = color\n",
    "        self.model = model\n",
    "        self.avg = avg\n",
    "        self.registration_num = registration_num\n",
    "     \n",
    "    def carDetail(self) :\n",
    "        print(\"Car name is '{}' color is '{}' model is '{}' gives avg is '{}' registration number is '{}'\".format(self.name,self.color,self.model,self.avg,self.registration_num))\n",
    "        \n",
    "    def owner(self,owner) :\n",
    "        print(\"The owner of {} is {}\".format(self.name,owner))\n",
    "        \n",
    "    def change_owner(self,newOwner) :\n",
    "        self.newOwner = newOwner\n",
    "        print(\"The new owner of a car is {}\".format(self.newOwner))\n",
    "        \n",
    "obj1 = Car(\"Land Cruiser\",\"Black\",2018,\"50 kilometer per liter\",1236)\n",
    "\n",
    "obj1.carDetail()\n",
    "\n",
    "obj1.owner(\"Muhammad Uzair\")\n",
    "\n",
    "obj1.change_owner(\"Saad\")"
   ]
  },
  {
   "cell_type": "code",
   "execution_count": null,
   "metadata": {},
   "outputs": [],
   "source": []
  }
 ],
 "metadata": {
  "kernelspec": {
   "display_name": "Python 3",
   "language": "python",
   "name": "python3"
  },
  "language_info": {
   "codemirror_mode": {
    "name": "ipython",
    "version": 3
   },
   "file_extension": ".py",
   "mimetype": "text/x-python",
   "name": "python",
   "nbconvert_exporter": "python",
   "pygments_lexer": "ipython3",
   "version": "3.7.4"
  }
 },
 "nbformat": 4,
 "nbformat_minor": 2
}
