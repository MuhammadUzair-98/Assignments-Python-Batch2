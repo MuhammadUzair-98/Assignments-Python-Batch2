{
 "cells": [
  {
   "cell_type": "code",
   "execution_count": 1,
   "metadata": {},
   "outputs": [
    {
     "name": "stdout",
     "output_type": "stream",
     "text": [
      "Enter the number : \n",
      "6\n",
      "720\n"
     ]
    }
   ],
   "source": [
    "def factorial(n):\n",
    "    num = 1\n",
    "    while n != 0 :\n",
    "        if n >= 0 :\n",
    "            num = num * n\n",
    "            n = n - 1\n",
    "        else :\n",
    "            num = \"factorial can't calculate the negative numbers\"\n",
    "            break\n",
    "    return num \n",
    "print(factorial(int(input(\"Enter the number : \\n\"))))"
   ]
  },
  {
   "cell_type": "code",
   "execution_count": 4,
   "metadata": {},
   "outputs": [
    {
     "name": "stdout",
     "output_type": "stream",
     "text": [
      "Enter the string saaaDFghT\n",
      "The uppercase letters is 3\n",
      "The lowercase letters is 6\n"
     ]
    }
   ],
   "source": [
    "def u_l_case(string) :\n",
    "    upperCaseLetter = []\n",
    "    lowerCaseLetter = []\n",
    "    for i in string :\n",
    "        if i == i.upper() :\n",
    "            upperCaseLetter.append(i)\n",
    "        else :\n",
    "            lowerCaseLetter.append(i)\n",
    "    print(\"The uppercase letters is \" + str(len(upperCaseLetter)))\n",
    "    print(\"The lowercase letters is \" + str(len(lowerCaseLetter)))\n",
    "    \n",
    "userInput = input(\"Enter the string \")\n",
    "u_l_case(userInput)"
   ]
  },
  {
   "cell_type": "code",
   "execution_count": 5,
   "metadata": {},
   "outputs": [
    {
     "name": "stdout",
     "output_type": "stream",
     "text": [
      "6\n",
      "4\n"
     ]
    }
   ],
   "source": [
    "def even(even) :\n",
    "    for i in even :\n",
    "        if i % 2 == 0 :\n",
    "            print(i)\n",
    "arr = [5,6,9,4]    \n",
    "even(arr)"
   ]
  },
  {
   "cell_type": "code",
   "execution_count": 6,
   "metadata": {},
   "outputs": [
    {
     "name": "stdout",
     "output_type": "stream",
     "text": [
      "Enter your palindromemadam\n",
      "Yes, madam is palindrome \n"
     ]
    }
   ],
   "source": [
    "def isPalindrome(s) :\n",
    "    if s[0].lower() == s[-1].lower() :\n",
    "        return print(\"Yes, \" + s + \" is palindrome \")\n",
    "    elif s[0] == s[-1] and s[1] == s[-2] :\n",
    "        return print(\"Yes, \" + s + \" is palindrome \")\n",
    "    else:\n",
    "        return print(\"No, \" + s + \" is not palindrome \")\n",
    "isPalindrome(input(\"Enter your palindrome\"))\n"
   ]
  },
  {
   "cell_type": "code",
   "execution_count": 7,
   "metadata": {},
   "outputs": [
    {
     "name": "stdout",
     "output_type": "stream",
     "text": [
      "9 is not a prime number\n"
     ]
    }
   ],
   "source": [
    "num = 9\n",
    "bol = False\n",
    "ans = \"\"\n",
    "if num > 1:\n",
    "    if num == 2 or num == 4 :\n",
    "        ans = \"is not a prime number\"\n",
    "    else :\n",
    "        for i in range(2, num):\n",
    "            if (num % i) == 0 or i * (i + 1) == num:\n",
    "                bol = True\n",
    "else:\n",
    "    print(num, \"is not a prime number\")\n",
    "    \n",
    "if bol == True or ans == \"is not a prime number\":\n",
    "    print(num, \"is not a prime number\")\n",
    "else :\n",
    "    print(num, \"is a prime number\")\n"
   ]
  },
  {
   "cell_type": "code",
   "execution_count": 8,
   "metadata": {},
   "outputs": [
    {
     "name": "stdout",
     "output_type": "stream",
     "text": [
      "Dress\n",
      "Cosmetic\n",
      "j jewelerry\n",
      "s Sandal\n",
      "b Bag\n",
      "g Glasses\n"
     ]
    }
   ],
   "source": [
    "def customer_items(first_item, second_item, **items) :\n",
    "    print(first_item + \"\\n\" + second_item)\n",
    "    for key,val in items.items() :\n",
    "        print(key,val)       \n",
    "customer_items(\"Dress\" ,\"Cosmetic\", j=\"jewelerry\", s=\"Sandal\", b=\"Bag\", g=\"Glasses\")\n"
   ]
  },
  {
   "cell_type": "code",
   "execution_count": null,
   "metadata": {},
   "outputs": [],
   "source": []
  }
 ],
 "metadata": {
  "kernelspec": {
   "display_name": "Python 3",
   "language": "python",
   "name": "python3"
  },
  "language_info": {
   "codemirror_mode": {
    "name": "ipython",
    "version": 3
   },
   "file_extension": ".py",
   "mimetype": "text/x-python",
   "name": "python",
   "nbconvert_exporter": "python",
   "pygments_lexer": "ipython3",
   "version": "3.7.4"
  }
 },
 "nbformat": 4,
 "nbformat_minor": 2
}
