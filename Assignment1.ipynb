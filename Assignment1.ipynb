{
 "cells": [
  {
   "cell_type": "code",
   "execution_count": 1,
   "metadata": {},
   "outputs": [
    {
     "name": "stdout",
     "output_type": "stream",
     "text": [
      "\t\t\tTwinkle, twinkle, little star,\n",
      " \t\t\t\tHow I wonder what you are!\n",
      "\t\t\t\t\tUp above the world so high, \n",
      " \t\t\t\t\tLike a diamond in the sky.\n",
      "\t\t\tTwinkle, twinkle, little star,\n",
      "\t\t\t\tHow I wonder what you are\n"
     ]
    }
   ],
   "source": [
    "print(\"\\t\\t\\tTwinkle, twinkle, little star,\\n \\t\\t\\t\\tHow I wonder what you are!\")\n",
    "print(\"\\t\\t\\t\\t\\tUp above the world so high, \\n \\t\\t\\t\\t\\tLike a diamond in the sky.\")\n",
    "print(\"\\t\\t\\tTwinkle, twinkle, little star,\")\n",
    "print(\"\\t\\t\\t\\tHow I wonder what you are\")"
   ]
  },
  {
   "cell_type": "code",
   "execution_count": 2,
   "metadata": {},
   "outputs": [
    {
     "name": "stdout",
     "output_type": "stream",
     "text": [
      "3.7.4 (default, Aug  9 2019, 18:34:13) [MSC v.1915 64 bit (AMD64)]\n",
      "sys.version_info(major=3, minor=7, micro=4, releaselevel='final', serial=0)\n"
     ]
    }
   ],
   "source": [
    "import sys\n",
    "print(sys.version)\n",
    "print(sys.version_info)"
   ]
  },
  {
   "cell_type": "code",
   "execution_count": 3,
   "metadata": {},
   "outputs": [
    {
     "name": "stdout",
     "output_type": "stream",
     "text": [
      "29-12-2019 15:35:26\n"
     ]
    }
   ],
   "source": [
    "import datetime\n",
    "rightnow = datetime.datetime.now()\n",
    "print(rightnow.strftime(\"%d-%m-%Y %H:%M:%S\"))"
   ]
  },
  {
   "cell_type": "code",
   "execution_count": 4,
   "metadata": {},
   "outputs": [
    {
     "name": "stdout",
     "output_type": "stream",
     "text": [
      "Enter the value of radius2.5\n",
      "Area of circle is :  19.634954084936208\n"
     ]
    }
   ],
   "source": [
    "from math import pi\n",
    "radius = float(input(\"Enter the value of radius\"))\n",
    "area = pi * radius ** 2\n",
    "print(\"Area of circle is : \" , area)"
   ]
  },
  {
   "cell_type": "code",
   "execution_count": 5,
   "metadata": {},
   "outputs": [
    {
     "name": "stdout",
     "output_type": "stream",
     "text": [
      "Enter the value of radius2.5\n",
      "Area of circle is :  19.625\n"
     ]
    }
   ],
   "source": [
    "pi = 3.14\n",
    "radius = float(input(\"Enter the value of radius\"))\n",
    "area = pi * radius ** 2\n",
    "print(\"Area of circle is : \" , area)"
   ]
  },
  {
   "cell_type": "code",
   "execution_count": 6,
   "metadata": {},
   "outputs": [
    {
     "name": "stdout",
     "output_type": "stream",
     "text": [
      "Enter your first name Uzair\n",
      "Enter your last name Saad\n",
      "riazU daaS\n"
     ]
    }
   ],
   "source": [
    "fstname = input(\"Enter your first name \")\n",
    "lstname = input(\"Enter your last name \")\n",
    "revfst = \"\"\n",
    "revlst = \"\"\n",
    "for i in fstname :\n",
    "    revfst = i + revfst\n",
    "for i in lstname :\n",
    "    revlst = i + revlst\n",
    "fullname = revfst + \" \" + revlst\n",
    "print(fullname)\n"
   ]
  },
  {
   "cell_type": "code",
   "execution_count": 10,
   "metadata": {},
   "outputs": [
    {
     "name": "stdout",
     "output_type": "stream",
     "text": [
      "Enter first number5\n",
      "Enter second number5\n",
      "The answer of addition is : 10 \n"
     ]
    }
   ],
   "source": [
    "firstnum = input('Enter first number')\n",
    "secondnum = input('Enter second number')\n",
    "addition = int(firstnum) + int(secondnum)\n",
    "print(\"The answer of addition is : {} \".format(addition))"
   ]
  },
  {
   "cell_type": "code",
   "execution_count": null,
   "metadata": {},
   "outputs": [],
   "source": []
  }
 ],
 "metadata": {
  "kernelspec": {
   "display_name": "Python 3",
   "language": "python",
   "name": "python3"
  },
  "language_info": {
   "codemirror_mode": {
    "name": "ipython",
    "version": 3
   },
   "file_extension": ".py",
   "mimetype": "text/x-python",
   "name": "python",
   "nbconvert_exporter": "python",
   "pygments_lexer": "ipython3",
   "version": "3.7.4"
  }
 },
 "nbformat": 4,
 "nbformat_minor": 2
}
