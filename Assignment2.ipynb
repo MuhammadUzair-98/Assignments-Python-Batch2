{
 "cells": [
  {
   "cell_type": "code",
   "execution_count": 1,
   "metadata": {},
   "outputs": [
    {
     "name": "stdout",
     "output_type": "stream",
     "text": [
      "Enter your English marks 5\n",
      "Enter your Math marks 5\n",
      "Enter your Sindhi marks 6\n",
      "Enter your Chemistry marks 2\n",
      "Enter your Computer marks 3\n",
      "Total marks is 500\n",
      "Your obtained marks is  21\n",
      "Sorry You are Fail\n"
     ]
    }
   ],
   "source": [
    "# take the subject marks from the user\n",
    "total_marks = 500\n",
    "english = int(input(\"Enter your English marks \"))\n",
    "math = int(input(\"Enter your Math marks \"))\n",
    "sindhi = int(input(\"Enter your Sindhi marks \"))\n",
    "chemistry = int(input(\"Enter your Chemistry marks \"))\n",
    "computer = int(input(\"Enter your Computer marks \"))\n",
    "total_obtained_marks = english + math + sindhi + chemistry + computer\n",
    "print(\"Total marks is\", total_marks)\n",
    "print(\"Your obtained marks is \", total_obtained_marks)\n",
    "percentage = (total_obtained_marks / total_marks) * 100\n",
    "if percentage >= 80 and percentage < 100 :\n",
    "    print(\"Your Grade is A+\")\n",
    "elif percentage >= 70 and percentage < 80:\n",
    "    print(\"Your Grade is A\")\n",
    "elif percentage >= 60 and percentage < 70 :\n",
    "    print(\"Your Grade is B\")\n",
    "elif percentage >= 50 and percentage < 60 :\n",
    "    print(\"Your Grade is C\")\n",
    "elif percentage >= 40 and percentage < 50:\n",
    "    print(\"Your Grade is D\")\n",
    "elif percentage >= 33 and percentage < 40 :\n",
    "    print(\"Your Grade is E\")\n",
    "elif percentage >= 0 and percentage < 33 :\n",
    "    print(\"Sorry You are Fail\")\n",
    "else : \n",
    "    print(\"Sorry you Enter wrong input\")\n"
   ]
  },
  {
   "cell_type": "code",
   "execution_count": 3,
   "metadata": {},
   "outputs": [
    {
     "name": "stdout",
     "output_type": "stream",
     "text": [
      "Enter some number5\n",
      "The number is odd\n"
     ]
    }
   ],
   "source": [
    "# odd numbers \n",
    "number = int(input(\"Enter some number\"))\n",
    "if number % 2 == 0 :\n",
    "    print(\"The number is even\")\n",
    "else : \n",
    "    print(\"The number is odd\")\n"
   ]
  },
  {
   "cell_type": "code",
   "execution_count": 7,
   "metadata": {},
   "outputs": [
    {
     "name": "stdout",
     "output_type": "stream",
     "text": [
      "8\n"
     ]
    }
   ],
   "source": [
    "list = [\"Basit\" , \"Saad\" , \"Uzair\" , \"Noman\", 25 , 22 , 21, 15]\n",
    "store = len(list)\n",
    "print(store)"
   ]
  },
  {
   "cell_type": "code",
   "execution_count": 8,
   "metadata": {},
   "outputs": [
    {
     "name": "stdout",
     "output_type": "stream",
     "text": [
      "Value is  9 The index is  3\n",
      "The sum of list item is 22\n"
     ]
    }
   ],
   "source": [
    "sum_num = [2, 5, 6, 9]\n",
    "rec = len(sum_num)\n",
    "print(\"Value is \", sum_num[rec - 1], \"The index is \", rec - 1)\n",
    "print(\"The sum of list item is\", sum(sum_num))"
   ]
  },
  {
   "cell_type": "code",
   "execution_count": 9,
   "metadata": {},
   "outputs": [
    {
     "data": {
      "text/plain": [
       "(22, 3)"
      ]
     },
     "execution_count": 9,
     "metadata": {},
     "output_type": "execute_result"
    }
   ],
   "source": [
    "summ = 0\n",
    "for i in range(0,rec) :\n",
    "    summ += sum_num[i]\n",
    "summ,i"
   ]
  },
  {
   "cell_type": "code",
   "execution_count": 10,
   "metadata": {},
   "outputs": [
    {
     "name": "stdout",
     "output_type": "stream",
     "text": [
      "9\n"
     ]
    }
   ],
   "source": [
    "print(max(sum_num))"
   ]
  },
  {
   "cell_type": "code",
   "execution_count": 11,
   "metadata": {},
   "outputs": [
    {
     "name": "stdout",
     "output_type": "stream",
     "text": [
      "LArgest number is : 9 Index is  3\n"
     ]
    }
   ],
   "source": [
    "sum_num = [5, 2, 6, 9]\n",
    "maxxx = 0\n",
    "for lar in sum_num :\n",
    "     if lar > maxxx :\n",
    "        maxxx = lar\n",
    "print(\"LArgest number is :\", lar, \"Index is \", sum_num.index(maxxx))\n"
   ]
  },
  {
   "cell_type": "code",
   "execution_count": 13,
   "metadata": {},
   "outputs": [
    {
     "name": "stdout",
     "output_type": "stream",
     "text": [
      "[1, 2, 3, 4]\n"
     ]
    }
   ],
   "source": [
    "less_than_5=[1,2,3,4,6,7,99,88,999]\n",
    "less_nums = []\n",
    "for val in less_than_5 :\n",
    "    if val < 5 :\n",
    "        less_nums.append(val)\n",
    "print(less_nums)  "
   ]
  },
  {
   "cell_type": "code",
   "execution_count": null,
   "metadata": {},
   "outputs": [],
   "source": []
  }
 ],
 "metadata": {
  "kernelspec": {
   "display_name": "Python 3",
   "language": "python",
   "name": "python3"
  },
  "language_info": {
   "codemirror_mode": {
    "name": "ipython",
    "version": 3
   },
   "file_extension": ".py",
   "mimetype": "text/x-python",
   "name": "python",
   "nbconvert_exporter": "python",
   "pygments_lexer": "ipython3",
   "version": "3.7.4"
  }
 },
 "nbformat": 4,
 "nbformat_minor": 2
}
