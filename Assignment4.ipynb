{
 "cells": [
  {
   "cell_type": "code",
   "execution_count": 1,
   "metadata": {},
   "outputs": [],
   "source": [
    "dic = {\n",
    "    \"firstname\" : \"Muhammad\",\n",
    "    \"lastname\" : \"Uzair\",\n",
    "    \"age\" : 21,\n",
    "    \"city\" : \"karachi\"\n",
    "}\n",
    "for key, value in dic.items() :\n",
    "    print(key , value )\n"
   ]
  },
  {
   "cell_type": "code",
   "execution_count": 2,
   "metadata": {},
   "outputs": [
    {
     "name": "stdout",
     "output_type": "stream",
     "text": [
      "firstname Muhammad\n",
      "lastname Uzair\n",
      "age 21\n",
      "city karachi\n",
      "qualification intermediate\n"
     ]
    }
   ],
   "source": [
    "dic[\"qualification\"] = \"intermediate\"\n",
    "for key, value in dic.items() :\n",
    "    print(key , value)"
   ]
  },
  {
   "cell_type": "code",
   "execution_count": 3,
   "metadata": {},
   "outputs": [
    {
     "name": "stdout",
     "output_type": "stream",
     "text": [
      "firstname Muhammad\n",
      "lastname Uzair\n",
      "age 21\n",
      "city karachi\n",
      "qualification bachelors\n"
     ]
    }
   ],
   "source": [
    "dic[\"qualification\"] = \"bachelors\" \n",
    "for key, value in dic.items() :\n",
    "    print(key , value)"
   ]
  },
  {
   "cell_type": "code",
   "execution_count": 4,
   "metadata": {},
   "outputs": [
    {
     "name": "stdout",
     "output_type": "stream",
     "text": [
      "firstname Muhammad\n",
      "lastname Uzair\n",
      "age 21\n",
      "city karachi\n"
     ]
    }
   ],
   "source": [
    "del dic[\"qualification\"]\n",
    "for key, value in dic.items() :\n",
    "    print(key , value)"
   ]
  },
  {
   "cell_type": "code",
   "execution_count": 5,
   "metadata": {},
   "outputs": [
    {
     "name": "stdout",
     "output_type": "stream",
     "text": [
      "Enter the age 15\n",
      "The ticket is $15\n"
     ]
    }
   ],
   "source": [
    "age = float(input(\"Enter the age \"))\n",
    "if age > 0 and age < 3 :\n",
    "    print(\"The ticket is free\")\n",
    "elif age >= 3 and age <= 12 :\n",
    "    print(\"The ticket is $10\")\n",
    "elif age > 12 :\n",
    "    print(\"The ticket is $15\")\n",
    "else :\n",
    "    print(\"Enter the correct age\")\n"
   ]
  },
  {
   "cell_type": "code",
   "execution_count": 6,
   "metadata": {},
   "outputs": [
    {
     "name": "stdout",
     "output_type": "stream",
     "text": [
      "The title is:  The book of the wonderland\n",
      "The message is:  One of my favorite books is Alice in Wonderland.\n"
     ]
    }
   ],
   "source": [
    "def fav_book(title) :\n",
    "    message = \"One of my favorite books is Alice in Wonderland.\"\n",
    "    print(\"The title is: \" , title)\n",
    "    print(\"The message is: \" , message)\n",
    "fav_book(\"The book of the wonderland\")\n"
   ]
  },
  {
   "cell_type": "code",
   "execution_count": 7,
   "metadata": {},
   "outputs": [
    {
     "name": "stdout",
     "output_type": "stream",
     "text": [
      "Hello! What is your name?\n",
      "5\n",
      "Well, 5, I am thinking of a number between 1 and 20.\n",
      "Take a guess.\n",
      "05\n",
      "Your guess is too low.\n",
      "Take a guess.\n",
      "15\n",
      "Your guess is too low.\n",
      "Take a guess.\n",
      "25\n",
      "Your guess is too low.\n",
      "Nope. The number I was thinking of was 7\n"
     ]
    }
   ],
   "source": [
    "import random\n",
    "guessesTaken = 0\n",
    "print(\"Hello! What is your name?\")\n",
    "myName = input()\n",
    "number = random.randint(1, 30)\n",
    "print('Well, ' + myName + ', I am thinking of a number between 1 and 20.')\n",
    "while guessesTaken < 3:    \n",
    "    print('Take a guess.') # There are four spaces in front of print.\n",
    "    guess = input(guessesTaken)\n",
    "    guess = int(guess)\n",
    "    guessesTaken = guessesTaken + 1\n",
    "    if guess < number:\n",
    "        print('Your guess is too low.') # There are eight spaces in front of print.\n",
    "    if guess > number:\n",
    "        print('Your guess is too high.')\n",
    "    if guess == number:\n",
    "        break\n",
    "if guess == number:\n",
    "    guessesTaken = str(guessesTaken)\n",
    "    print('Good job, ' + myName + '! You guessed my number in ' + guessesTaken + ' guesses!')\n",
    "if guess != number:\n",
    "    number = str(number)\n",
    "    print('Nope. The number I was thinking of was ' + number)\n"
   ]
  },
  {
   "cell_type": "code",
   "execution_count": 8,
   "metadata": {},
   "outputs": [
    {
     "name": "stdout",
     "output_type": "stream",
     "text": [
      "Take a guess6\n",
      "Your guess is too low\n",
      "Take a guess3\n",
      "Your guess is too low\n",
      "Take a guess5\n",
      "Your guess is too low\n",
      "Sorry you Lost\n"
     ]
    }
   ],
   "source": [
    "import random\n",
    "inc = 0\n",
    "number = random.randint(1,30)\n",
    "while inc < 3 :\n",
    "    take = int(input('Take a guess'))\n",
    "    inc += 1\n",
    "    if take > number :\n",
    "        print(\"Your guess is too high\")\n",
    "    elif take < number :\n",
    "        print(\"Your guess is too low\")\n",
    "    elif take == number :\n",
    "        break\n",
    "if take == number :\n",
    "    print(\"Good you won\")\n",
    "else :\n",
    "    print(\"Sorry you Lost\")     "
   ]
  },
  {
   "cell_type": "code",
   "execution_count": null,
   "metadata": {},
   "outputs": [],
   "source": []
  }
 ],
 "metadata": {
  "kernelspec": {
   "display_name": "Python 3",
   "language": "python",
   "name": "python3"
  },
  "language_info": {
   "codemirror_mode": {
    "name": "ipython",
    "version": 3
   },
   "file_extension": ".py",
   "mimetype": "text/x-python",
   "name": "python",
   "nbconvert_exporter": "python",
   "pygments_lexer": "ipython3",
   "version": "3.7.4"
  }
 },
 "nbformat": 4,
 "nbformat_minor": 2
}
